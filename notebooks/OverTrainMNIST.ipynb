{
 "cells": [
  {
   "cell_type": "code",
   "execution_count": 24,
   "id": "c4ad7a81",
   "metadata": {},
   "outputs": [],
   "source": [
    "import time\n",
    "import os\n",
    "import keras\n",
    "import numpy as np\n",
    "from importlib import reload\n",
    "import tensorflow as tf\n",
    "from tensorflow.keras import optimizers\n",
    "from tensorflow.keras.optimizers import Adam\n",
    "from tensorflow.keras.applications import VGG19\n",
    "from tensorflow.keras.callbacks import LearningRateScheduler, ModelCheckpoint\n",
    "from tensorflow.keras.models import load_model\n",
    "import pickle\n",
    "import shutil\n",
    "\n",
    "%config Completer.use_jedi = False\n",
    "# ROOT_DIR = '/Users/halmagyi/Documents/MachineLearning/ML_Notes/BaysianNNets/ColdEnsembles'\n",
    "ROOT_DIR = '/Users/halmagyi/Documents/MachineLearning/ML_Notes/BaysianNNets/ColdEnsembles'\n",
    "DATA_DIR = os.path.join(ROOT_DIR, 'data')\n",
    "CALLBACKS_DIR = os.path.join(DATA_DIR, 'callbacks')\n",
    "os.chdir(ROOT_DIR)\n",
    "\n",
    "import src.subleading; reload(src.subleading)\n",
    "from src.subleading import *\n",
    "import src.model; reload(src.model)\n",
    "from src.model import *\n",
    "import src.mnist; reload(src.mnist)\n",
    "from src.mnist import *\n",
    "import src.hessian; reload(src.hessian)\n",
    "from src.hessian import *\n",
    "import src.callbacks; reload(src.callbacks)\n",
    "from src.callbacks import EvaluateAfterNBatch\n",
    "import src.schedules; reload(src.schedules)\n",
    "from src.schedules import lr_scheduler, StepDecay\n",
    "\n",
    "\n",
    "\n",
    "MNIST_path = os.path.join(os.path.expanduser('~'), '.keras/datasets/mnist.npz')\n",
    "\n",
    "num_classes = 10\n",
    "x_train_flat, x_test_flat, x_train_flat_bias, x_test_flat_bias, Y_train, Y_test = make_mnist_data(num_classes)"
   ]
  },
  {
   "cell_type": "code",
   "execution_count": 8,
   "id": "b16c64b6-8194-4256-8566-fe91772121b8",
   "metadata": {},
   "outputs": [],
   "source": [
    "# initial_learning_rate = 0.001\n",
    "# lr_schedule = tf.keras.optimizers.schedules.ExponentialDecay(\n",
    "#     initial_learning_rate,\n",
    "#     decay_steps=100,\n",
    "#     decay_rate=0.96,\n",
    "#     staircase=True)\n",
    "\n",
    "# model.compile(optimizer=tf.keras.optimizers.SGD(learning_rate=lr_schedule),\n",
    "#               loss='sparse_categorical_crossentropy',\n",
    "#               metrics=['accuracy'])"
   ]
  },
  {
   "cell_type": "markdown",
   "id": "dc54bceb",
   "metadata": {},
   "source": [
    "# Ensemble with different seeds"
   ]
  },
  {
   "cell_type": "code",
   "execution_count": 27,
   "id": "4225b5f9",
   "metadata": {
    "tags": []
   },
   "outputs": [
    {
     "name": "stdout",
     "output_type": "stream",
     "text": [
      "Epoch 1/60\n",
      "938/938 - 6s - loss: 0.2151 - accuracy: 0.9364 - val_loss: 0.1258 - val_accuracy: 0.9621 - lr: 0.0010 - 6s/epoch - 6ms/step\n",
      "Epoch 2/60\n",
      "938/938 - 5s - loss: 0.0917 - accuracy: 0.9740 - val_loss: 0.0991 - val_accuracy: 0.9725 - lr: 0.0010 - 5s/epoch - 5ms/step\n",
      "Epoch 3/60\n",
      "938/938 - 5s - loss: 0.0676 - accuracy: 0.9802 - val_loss: 0.0985 - val_accuracy: 0.9713 - lr: 0.0010 - 5s/epoch - 5ms/step\n",
      "Epoch 4/60\n",
      "938/938 - 5s - loss: 0.0514 - accuracy: 0.9851 - val_loss: 0.0753 - val_accuracy: 0.9790 - lr: 0.0010 - 5s/epoch - 5ms/step\n",
      "Epoch 5/60\n",
      "938/938 - 5s - loss: 0.0418 - accuracy: 0.9880 - val_loss: 0.0748 - val_accuracy: 0.9805 - lr: 0.0010 - 5s/epoch - 5ms/step\n",
      "Epoch 6/60\n",
      "938/938 - 5s - loss: 0.0363 - accuracy: 0.9898 - val_loss: 0.0837 - val_accuracy: 0.9789 - lr: 0.0010 - 5s/epoch - 6ms/step\n",
      "Epoch 7/60\n",
      "938/938 - 5s - loss: 0.0319 - accuracy: 0.9915 - val_loss: 0.0813 - val_accuracy: 0.9802 - lr: 0.0010 - 5s/epoch - 5ms/step\n",
      "Epoch 8/60\n",
      "938/938 - 5s - loss: 0.0246 - accuracy: 0.9936 - val_loss: 0.0960 - val_accuracy: 0.9792 - lr: 0.0010 - 5s/epoch - 6ms/step\n",
      "Epoch 9/60\n",
      "938/938 - 5s - loss: 0.0228 - accuracy: 0.9939 - val_loss: 0.0964 - val_accuracy: 0.9788 - lr: 0.0010 - 5s/epoch - 6ms/step\n",
      "Epoch 10/60\n",
      "938/938 - 5s - loss: 0.0226 - accuracy: 0.9941 - val_loss: 0.0856 - val_accuracy: 0.9817 - lr: 0.0010 - 5s/epoch - 6ms/step\n",
      "Epoch 11/60\n",
      "938/938 - 6s - loss: 0.0191 - accuracy: 0.9948 - val_loss: 0.0862 - val_accuracy: 0.9813 - lr: 0.0010 - 6s/epoch - 6ms/step\n",
      "Epoch 12/60\n",
      "938/938 - 5s - loss: 0.0169 - accuracy: 0.9955 - val_loss: 0.0902 - val_accuracy: 0.9811 - lr: 0.0010 - 5s/epoch - 6ms/step\n",
      "Epoch 13/60\n",
      "938/938 - 6s - loss: 0.0164 - accuracy: 0.9957 - val_loss: 0.1001 - val_accuracy: 0.9797 - lr: 0.0010 - 6s/epoch - 6ms/step\n",
      "Epoch 14/60\n",
      "938/938 - 5s - loss: 0.0168 - accuracy: 0.9955 - val_loss: 0.0846 - val_accuracy: 0.9831 - lr: 0.0010 - 5s/epoch - 5ms/step\n",
      "Epoch 15/60\n",
      "938/938 - 6s - loss: 0.0120 - accuracy: 0.9970 - val_loss: 0.1002 - val_accuracy: 0.9786 - lr: 0.0010 - 6s/epoch - 6ms/step\n",
      "Epoch 16/60\n",
      "938/938 - 5s - loss: 0.0169 - accuracy: 0.9958 - val_loss: 0.1005 - val_accuracy: 0.9796 - lr: 0.0010 - 5s/epoch - 5ms/step\n",
      "Epoch 17/60\n",
      "938/938 - 6s - loss: 0.0110 - accuracy: 0.9970 - val_loss: 0.1112 - val_accuracy: 0.9811 - lr: 0.0010 - 6s/epoch - 6ms/step\n",
      "Epoch 18/60\n",
      "938/938 - 6s - loss: 0.0110 - accuracy: 0.9973 - val_loss: 0.0936 - val_accuracy: 0.9807 - lr: 0.0010 - 6s/epoch - 6ms/step\n",
      "Epoch 19/60\n"
     ]
    },
    {
     "ename": "KeyboardInterrupt",
     "evalue": "",
     "output_type": "error",
     "traceback": [
      "\u001b[0;31m---------------------------------------------------------------------------\u001b[0m",
      "\u001b[0;31mKeyboardInterrupt\u001b[0m                         Traceback (most recent call last)",
      "\u001b[0;32m/var/folders/d3/2w79wp4x55b3t3180d9c87jc0000gp/T/ipykernel_85497/497614012.py\u001b[0m in \u001b[0;36m<module>\u001b[0;34m\u001b[0m\n\u001b[1;32m     53\u001b[0m               \u001b[0mverbose\u001b[0m\u001b[0;34m=\u001b[0m\u001b[0;36m2\u001b[0m\u001b[0;34m,\u001b[0m\u001b[0;34m\u001b[0m\u001b[0m\n\u001b[1;32m     54\u001b[0m               \u001b[0mcallbacks\u001b[0m\u001b[0;34m=\u001b[0m\u001b[0mcallbacks\u001b[0m\u001b[0;34m,\u001b[0m\u001b[0;34m\u001b[0m\u001b[0m\n\u001b[0;32m---> 55\u001b[0;31m               validation_data=validation_data)\n\u001b[0m\u001b[1;32m     56\u001b[0m \u001b[0;34m\u001b[0m\u001b[0m\n\u001b[1;32m     57\u001b[0m     \u001b[0mmodels\u001b[0m \u001b[0;34m+=\u001b[0m \u001b[0;34m[\u001b[0m\u001b[0mmodel\u001b[0m\u001b[0;34m]\u001b[0m\u001b[0;34m\u001b[0m\u001b[0m\n",
      "\u001b[0;32m~/anaconda3/envs/ml/lib/python3.7/site-packages/keras/utils/traceback_utils.py\u001b[0m in \u001b[0;36merror_handler\u001b[0;34m(*args, **kwargs)\u001b[0m\n\u001b[1;32m     62\u001b[0m     \u001b[0mfiltered_tb\u001b[0m \u001b[0;34m=\u001b[0m \u001b[0;32mNone\u001b[0m\u001b[0;34m\u001b[0m\u001b[0m\n\u001b[1;32m     63\u001b[0m     \u001b[0;32mtry\u001b[0m\u001b[0;34m:\u001b[0m\u001b[0;34m\u001b[0m\u001b[0m\n\u001b[0;32m---> 64\u001b[0;31m       \u001b[0;32mreturn\u001b[0m \u001b[0mfn\u001b[0m\u001b[0;34m(\u001b[0m\u001b[0;34m*\u001b[0m\u001b[0margs\u001b[0m\u001b[0;34m,\u001b[0m \u001b[0;34m**\u001b[0m\u001b[0mkwargs\u001b[0m\u001b[0;34m)\u001b[0m\u001b[0;34m\u001b[0m\u001b[0m\n\u001b[0m\u001b[1;32m     65\u001b[0m     \u001b[0;32mexcept\u001b[0m \u001b[0mException\u001b[0m \u001b[0;32mas\u001b[0m \u001b[0me\u001b[0m\u001b[0;34m:\u001b[0m  \u001b[0;31m# pylint: disable=broad-except\u001b[0m\u001b[0;34m\u001b[0m\u001b[0m\n\u001b[1;32m     66\u001b[0m       \u001b[0mfiltered_tb\u001b[0m \u001b[0;34m=\u001b[0m \u001b[0m_process_traceback_frames\u001b[0m\u001b[0;34m(\u001b[0m\u001b[0me\u001b[0m\u001b[0;34m.\u001b[0m\u001b[0m__traceback__\u001b[0m\u001b[0;34m)\u001b[0m\u001b[0;34m\u001b[0m\u001b[0m\n",
      "\u001b[0;32m~/anaconda3/envs/ml/lib/python3.7/site-packages/keras/engine/training.py\u001b[0m in \u001b[0;36mfit\u001b[0;34m(self, x, y, batch_size, epochs, verbose, callbacks, validation_split, validation_data, shuffle, class_weight, sample_weight, initial_epoch, steps_per_epoch, validation_steps, validation_batch_size, validation_freq, max_queue_size, workers, use_multiprocessing)\u001b[0m\n\u001b[1;32m   1382\u001b[0m                 _r=1):\n\u001b[1;32m   1383\u001b[0m               \u001b[0mcallbacks\u001b[0m\u001b[0;34m.\u001b[0m\u001b[0mon_train_batch_begin\u001b[0m\u001b[0;34m(\u001b[0m\u001b[0mstep\u001b[0m\u001b[0;34m)\u001b[0m\u001b[0;34m\u001b[0m\u001b[0m\n\u001b[0;32m-> 1384\u001b[0;31m               \u001b[0mtmp_logs\u001b[0m \u001b[0;34m=\u001b[0m \u001b[0mself\u001b[0m\u001b[0;34m.\u001b[0m\u001b[0mtrain_function\u001b[0m\u001b[0;34m(\u001b[0m\u001b[0miterator\u001b[0m\u001b[0;34m)\u001b[0m\u001b[0;34m\u001b[0m\u001b[0m\n\u001b[0m\u001b[1;32m   1385\u001b[0m               \u001b[0;32mif\u001b[0m \u001b[0mdata_handler\u001b[0m\u001b[0;34m.\u001b[0m\u001b[0mshould_sync\u001b[0m\u001b[0;34m:\u001b[0m\u001b[0;34m\u001b[0m\u001b[0m\n\u001b[1;32m   1386\u001b[0m                 \u001b[0mcontext\u001b[0m\u001b[0;34m.\u001b[0m\u001b[0masync_wait\u001b[0m\u001b[0;34m(\u001b[0m\u001b[0;34m)\u001b[0m\u001b[0;34m\u001b[0m\u001b[0m\n",
      "\u001b[0;32m~/anaconda3/envs/ml/lib/python3.7/site-packages/tensorflow/python/util/traceback_utils.py\u001b[0m in \u001b[0;36merror_handler\u001b[0;34m(*args, **kwargs)\u001b[0m\n\u001b[1;32m    148\u001b[0m     \u001b[0mfiltered_tb\u001b[0m \u001b[0;34m=\u001b[0m \u001b[0;32mNone\u001b[0m\u001b[0;34m\u001b[0m\u001b[0m\n\u001b[1;32m    149\u001b[0m     \u001b[0;32mtry\u001b[0m\u001b[0;34m:\u001b[0m\u001b[0;34m\u001b[0m\u001b[0m\n\u001b[0;32m--> 150\u001b[0;31m       \u001b[0;32mreturn\u001b[0m \u001b[0mfn\u001b[0m\u001b[0;34m(\u001b[0m\u001b[0;34m*\u001b[0m\u001b[0margs\u001b[0m\u001b[0;34m,\u001b[0m \u001b[0;34m**\u001b[0m\u001b[0mkwargs\u001b[0m\u001b[0;34m)\u001b[0m\u001b[0;34m\u001b[0m\u001b[0m\n\u001b[0m\u001b[1;32m    151\u001b[0m     \u001b[0;32mexcept\u001b[0m \u001b[0mException\u001b[0m \u001b[0;32mas\u001b[0m \u001b[0me\u001b[0m\u001b[0;34m:\u001b[0m\u001b[0;34m\u001b[0m\u001b[0m\n\u001b[1;32m    152\u001b[0m       \u001b[0mfiltered_tb\u001b[0m \u001b[0;34m=\u001b[0m \u001b[0m_process_traceback_frames\u001b[0m\u001b[0;34m(\u001b[0m\u001b[0me\u001b[0m\u001b[0;34m.\u001b[0m\u001b[0m__traceback__\u001b[0m\u001b[0;34m)\u001b[0m\u001b[0;34m\u001b[0m\u001b[0m\n",
      "\u001b[0;32m~/anaconda3/envs/ml/lib/python3.7/site-packages/tensorflow/python/eager/def_function.py\u001b[0m in \u001b[0;36m__call__\u001b[0;34m(self, *args, **kwds)\u001b[0m\n\u001b[1;32m    913\u001b[0m \u001b[0;34m\u001b[0m\u001b[0m\n\u001b[1;32m    914\u001b[0m       \u001b[0;32mwith\u001b[0m \u001b[0mOptionalXlaContext\u001b[0m\u001b[0;34m(\u001b[0m\u001b[0mself\u001b[0m\u001b[0;34m.\u001b[0m\u001b[0m_jit_compile\u001b[0m\u001b[0;34m)\u001b[0m\u001b[0;34m:\u001b[0m\u001b[0;34m\u001b[0m\u001b[0m\n\u001b[0;32m--> 915\u001b[0;31m         \u001b[0mresult\u001b[0m \u001b[0;34m=\u001b[0m \u001b[0mself\u001b[0m\u001b[0;34m.\u001b[0m\u001b[0m_call\u001b[0m\u001b[0;34m(\u001b[0m\u001b[0;34m*\u001b[0m\u001b[0margs\u001b[0m\u001b[0;34m,\u001b[0m \u001b[0;34m**\u001b[0m\u001b[0mkwds\u001b[0m\u001b[0;34m)\u001b[0m\u001b[0;34m\u001b[0m\u001b[0m\n\u001b[0m\u001b[1;32m    916\u001b[0m \u001b[0;34m\u001b[0m\u001b[0m\n\u001b[1;32m    917\u001b[0m       \u001b[0mnew_tracing_count\u001b[0m \u001b[0;34m=\u001b[0m \u001b[0mself\u001b[0m\u001b[0;34m.\u001b[0m\u001b[0mexperimental_get_tracing_count\u001b[0m\u001b[0;34m(\u001b[0m\u001b[0;34m)\u001b[0m\u001b[0;34m\u001b[0m\u001b[0m\n",
      "\u001b[0;32m~/anaconda3/envs/ml/lib/python3.7/site-packages/tensorflow/python/eager/def_function.py\u001b[0m in \u001b[0;36m_call\u001b[0;34m(self, *args, **kwds)\u001b[0m\n\u001b[1;32m    945\u001b[0m       \u001b[0;31m# In this case we have created variables on the first call, so we run the\u001b[0m\u001b[0;34m\u001b[0m\u001b[0;34m\u001b[0m\u001b[0m\n\u001b[1;32m    946\u001b[0m       \u001b[0;31m# defunned version which is guaranteed to never create variables.\u001b[0m\u001b[0;34m\u001b[0m\u001b[0;34m\u001b[0m\u001b[0m\n\u001b[0;32m--> 947\u001b[0;31m       \u001b[0;32mreturn\u001b[0m \u001b[0mself\u001b[0m\u001b[0;34m.\u001b[0m\u001b[0m_stateless_fn\u001b[0m\u001b[0;34m(\u001b[0m\u001b[0;34m*\u001b[0m\u001b[0margs\u001b[0m\u001b[0;34m,\u001b[0m \u001b[0;34m**\u001b[0m\u001b[0mkwds\u001b[0m\u001b[0;34m)\u001b[0m  \u001b[0;31m# pylint: disable=not-callable\u001b[0m\u001b[0;34m\u001b[0m\u001b[0m\n\u001b[0m\u001b[1;32m    948\u001b[0m     \u001b[0;32melif\u001b[0m \u001b[0mself\u001b[0m\u001b[0;34m.\u001b[0m\u001b[0m_stateful_fn\u001b[0m \u001b[0;32mis\u001b[0m \u001b[0;32mnot\u001b[0m \u001b[0;32mNone\u001b[0m\u001b[0;34m:\u001b[0m\u001b[0;34m\u001b[0m\u001b[0m\n\u001b[1;32m    949\u001b[0m       \u001b[0;31m# Release the lock early so that multiple threads can perform the call\u001b[0m\u001b[0;34m\u001b[0m\u001b[0;34m\u001b[0m\u001b[0m\n",
      "\u001b[0;32m~/anaconda3/envs/ml/lib/python3.7/site-packages/tensorflow/python/eager/function.py\u001b[0m in \u001b[0;36m__call__\u001b[0;34m(self, *args, **kwargs)\u001b[0m\n\u001b[1;32m   2955\u001b[0m        filtered_flat_args) = self._maybe_define_function(args, kwargs)\n\u001b[1;32m   2956\u001b[0m     return graph_function._call_flat(\n\u001b[0;32m-> 2957\u001b[0;31m         filtered_flat_args, captured_inputs=graph_function.captured_inputs)  # pylint: disable=protected-access\n\u001b[0m\u001b[1;32m   2958\u001b[0m \u001b[0;34m\u001b[0m\u001b[0m\n\u001b[1;32m   2959\u001b[0m   \u001b[0;34m@\u001b[0m\u001b[0mproperty\u001b[0m\u001b[0;34m\u001b[0m\u001b[0m\n",
      "\u001b[0;32m~/anaconda3/envs/ml/lib/python3.7/site-packages/tensorflow/python/eager/function.py\u001b[0m in \u001b[0;36m_call_flat\u001b[0;34m(self, args, captured_inputs, cancellation_manager)\u001b[0m\n\u001b[1;32m   1852\u001b[0m       \u001b[0;31m# No tape is watching; skip to running the function.\u001b[0m\u001b[0;34m\u001b[0m\u001b[0;34m\u001b[0m\u001b[0m\n\u001b[1;32m   1853\u001b[0m       return self._build_call_outputs(self._inference_function.call(\n\u001b[0;32m-> 1854\u001b[0;31m           ctx, args, cancellation_manager=cancellation_manager))\n\u001b[0m\u001b[1;32m   1855\u001b[0m     forward_backward = self._select_forward_and_backward_functions(\n\u001b[1;32m   1856\u001b[0m         \u001b[0margs\u001b[0m\u001b[0;34m,\u001b[0m\u001b[0;34m\u001b[0m\u001b[0m\n",
      "\u001b[0;32m~/anaconda3/envs/ml/lib/python3.7/site-packages/tensorflow/python/eager/function.py\u001b[0m in \u001b[0;36mcall\u001b[0;34m(self, ctx, args, cancellation_manager)\u001b[0m\n\u001b[1;32m    502\u001b[0m               \u001b[0minputs\u001b[0m\u001b[0;34m=\u001b[0m\u001b[0margs\u001b[0m\u001b[0;34m,\u001b[0m\u001b[0;34m\u001b[0m\u001b[0m\n\u001b[1;32m    503\u001b[0m               \u001b[0mattrs\u001b[0m\u001b[0;34m=\u001b[0m\u001b[0mattrs\u001b[0m\u001b[0;34m,\u001b[0m\u001b[0;34m\u001b[0m\u001b[0m\n\u001b[0;32m--> 504\u001b[0;31m               ctx=ctx)\n\u001b[0m\u001b[1;32m    505\u001b[0m         \u001b[0;32melse\u001b[0m\u001b[0;34m:\u001b[0m\u001b[0;34m\u001b[0m\u001b[0m\n\u001b[1;32m    506\u001b[0m           outputs = execute.execute_with_cancellation(\n",
      "\u001b[0;32m~/anaconda3/envs/ml/lib/python3.7/site-packages/tensorflow/python/eager/execute.py\u001b[0m in \u001b[0;36mquick_execute\u001b[0;34m(op_name, num_outputs, inputs, attrs, ctx, name)\u001b[0m\n\u001b[1;32m     53\u001b[0m     \u001b[0mctx\u001b[0m\u001b[0;34m.\u001b[0m\u001b[0mensure_initialized\u001b[0m\u001b[0;34m(\u001b[0m\u001b[0;34m)\u001b[0m\u001b[0;34m\u001b[0m\u001b[0m\n\u001b[1;32m     54\u001b[0m     tensors = pywrap_tfe.TFE_Py_Execute(ctx._handle, device_name, op_name,\n\u001b[0;32m---> 55\u001b[0;31m                                         inputs, attrs, num_outputs)\n\u001b[0m\u001b[1;32m     56\u001b[0m   \u001b[0;32mexcept\u001b[0m \u001b[0mcore\u001b[0m\u001b[0;34m.\u001b[0m\u001b[0m_NotOkStatusException\u001b[0m \u001b[0;32mas\u001b[0m \u001b[0me\u001b[0m\u001b[0;34m:\u001b[0m\u001b[0;34m\u001b[0m\u001b[0m\n\u001b[1;32m     57\u001b[0m     \u001b[0;32mif\u001b[0m \u001b[0mname\u001b[0m \u001b[0;32mis\u001b[0m \u001b[0;32mnot\u001b[0m \u001b[0;32mNone\u001b[0m\u001b[0;34m:\u001b[0m\u001b[0;34m\u001b[0m\u001b[0m\n",
      "\u001b[0;31mKeyboardInterrupt\u001b[0m: "
     ]
    }
   ],
   "source": [
    "batch_size = 64\n",
    "epochs = 60\n",
    "\n",
    "num_classes = 10\n",
    "num_layers = 3\n",
    "data_length = x_train_flat.shape[1]\n",
    "hidden_width = 500\n",
    "optimizer = Adam()\n",
    "\n",
    "callback_ensemble = []\n",
    "histories = []\n",
    "models = []\n",
    "\n",
    "validation_data=(x_test_flat, Y_test)\n",
    "\n",
    "num_models = 2\n",
    "\n",
    "checkpoint_filepath = os.path.join(CALLBACKS_DIR, 'checkpoints')\n",
    "if os.path.isdir(checkpoint_filepath):\n",
    "    shutil.rmtree(checkpoint_filepath, ignore_errors=False, onerror=None)\n",
    "os.mkdir(checkpoint_filepath)\n",
    "\n",
    "for i in range(num_models):\n",
    "\n",
    "    model = make_mnist_model(num_classes, num_layers, data_length, hidden_width, seed=3*i, output_l2=0.001)\n",
    "\n",
    "\n",
    "    model.compile(optimizer=optimizer,\n",
    "                  loss='categorical_crossentropy',\n",
    "                  metrics=['accuracy'])\n",
    "\n",
    "    evaluate_Nbatch = EvaluateAfterNBatch(x_test_flat, Y_test, N=500)\n",
    "\n",
    "    schedule = StepDecay(initAlpha=1e-3, factor=3**(-1), dropEvery=20)\n",
    "#     callbacks = [evaluate_Nbatch, LearningRateScheduler(schedule)]\n",
    "\n",
    "    checkpoint_modelnum_filepath = os.path.join(checkpoint_filepath, f'model_{i}')\n",
    "\n",
    "    model_checkpoint_callback = ModelCheckpoint(\n",
    "        filepath=checkpoint_modelnum_filepath,\n",
    "        save_weights_only=False,\n",
    "        monitor='loss',\n",
    "        mode='min',\n",
    "        save_best_only=True)\n",
    "\n",
    "\n",
    "    callbacks = [LearningRateScheduler(schedule), model_checkpoint_callback]\n",
    "\n",
    "    history = model.fit(x=x_train_flat, \n",
    "              y=Y_train,\n",
    "              batch_size=batch_size,\n",
    "              epochs=epochs,\n",
    "              verbose=2,\n",
    "              callbacks=callbacks,\n",
    "              validation_data=validation_data)\n",
    "    \n",
    "    models += [model]\n",
    "    callback_ensemble += [callbacks]\n",
    "    histories += [history]"
   ]
  },
  {
   "cell_type": "code",
   "execution_count": 25,
   "id": "3e2bb144",
   "metadata": {},
   "outputs": [],
   "source": [
    "models = []\n",
    "for i in range(num_models):\n",
    "    checkpoint_modelnum_filepath = os.path.join(checkpoint_filepath, f'model_{i}')\n",
    "    models += [load_model(checkpoint_modelnum_filepath)]"
   ]
  },
  {
   "cell_type": "code",
   "execution_count": 26,
   "id": "1a44ab8c-3c2c-49d6-80e4-07150af76131",
   "metadata": {},
   "outputs": [
    {
     "data": {
      "text/plain": [
       "[<keras.engine.functional.Functional at 0x7ffc1a8547f0>,\n",
       " <keras.engine.functional.Functional at 0x7ffc1a8a12b0>]"
      ]
     },
     "execution_count": 26,
     "metadata": {},
     "output_type": "execute_result"
    }
   ],
   "source": [
    "models"
   ]
  },
  {
   "cell_type": "code",
   "execution_count": 51,
   "id": "26e40035",
   "metadata": {},
   "outputs": [
    {
     "data": {
      "text/plain": [
       "9881"
      ]
     },
     "execution_count": 51,
     "metadata": {},
     "output_type": "execute_result"
    }
   ],
   "source": [
    "def pred_ensemble(models, histories, X):\n",
    "    preds = []\n",
    "    for model, history in zip(models, histories):\n",
    "        loss = history.history['loss'][-1]\n",
    "        preds += [model.predict(X) * np.exp(-loss)]\n",
    "        \n",
    "    preds = np.sum(preds, axis=0)\n",
    "#     preds = np.array()\n",
    "    return preds\n",
    "\n",
    "preds = np.argmax(pred_ensemble(models, histories, x_test_flat), axis=1)\n",
    "np.sum(preds == np.argmax(Y_test,axis=1))"
   ]
  },
  {
   "cell_type": "code",
   "execution_count": null,
   "id": "8922dede",
   "metadata": {},
   "outputs": [],
   "source": []
  },
  {
   "cell_type": "code",
   "execution_count": 52,
   "id": "bdcb4f5c",
   "metadata": {},
   "outputs": [
    {
     "data": {
      "text/plain": [
       "[1.6213876733672805e-05,\n",
       " 1.940501169883646e-05,\n",
       " 2.138576928700786e-05,\n",
       " 1.897824949992355e-05,\n",
       " 1.8695041944738477e-05,\n",
       " 2.0125420633121394e-05,\n",
       " 2.087637949443888e-05,\n",
       " 2.010149364650715e-05,\n",
       " 2.108018634316977e-05,\n",
       " 2.042125015577767e-05]"
      ]
     },
     "execution_count": 52,
     "metadata": {},
     "output_type": "execute_result"
    }
   ],
   "source": [
    "[history.history['loss'][-1] for history in histories]"
   ]
  },
  {
   "cell_type": "code",
   "execution_count": 50,
   "id": "c166d6e5",
   "metadata": {},
   "outputs": [],
   "source": [
    "def get_truefalse_preds(model, X, Y):\n",
    "    Y_true = np.array(list(map(np.argmax, Y)))\n",
    "\n",
    "    y_preds = model.predict(X)\n",
    "    Y_preds = np.array(list(map(np.argmax, y_preds)))\n",
    "    \n",
    "    Y_preds_prob = np.array(list(map(np.max, y_preds)))\n",
    "\n",
    "    true_args = np.where((Y_preds == Y_true) == True)[0]\n",
    "    false_args = np.where((Y_preds == Y_true) == False)[0]\n",
    "    \n",
    "    true_preds = Y_preds[true_args]\n",
    "    false_preds = Y_preds[false_args]\n",
    "    \n",
    "    true_probs = np.array(Y_preds_prob[true_args])\n",
    "    false_probs = np.array(Y_preds_prob[false_args])\n",
    "\n",
    "    return true_args, false_args, true_preds, false_preds, true_probs, false_probs\n",
    "\n",
    "\n",
    "True_args = []; False_args=[]; True_preds=[]; False_preds=[]; True_probs=[]; False_probs=[];\n",
    "\n",
    "for i in range(num_models):\n",
    "    true_args, false_args, true_preds, false_preds, true_probs, false_probs = \\\n",
    "        get_truefalse_preds(models[i], x_test_flat, Y_test)\n",
    "    \n",
    "    True_args += [true_args]\n",
    "    False_args += [false_args]\n",
    "    True_preds += [true_preds]\n",
    "    False_preds += [false_preds]\n",
    "    True_probs += [true_probs]\n",
    "    False_probs += [false_probs]"
   ]
  },
  {
   "cell_type": "code",
   "execution_count": 51,
   "id": "bf9f89f1",
   "metadata": {},
   "outputs": [
    {
     "data": {
      "text/plain": [
       "203"
      ]
     },
     "execution_count": 51,
     "metadata": {},
     "output_type": "execute_result"
    }
   ],
   "source": [
    "FA_flat = np.array(sorted(list(set([f for e in False_args for f in e]))))\n",
    "\n",
    "#probs\n",
    "probs = np.transpose(np.array([list(map(np.max, model.predict(x_test_flat[FA_flat]))) for model in models]))\n",
    "model_nums = list(map(np.argmax, probs))\n",
    "\n",
    "len(model_nums)"
   ]
  },
  {
   "cell_type": "code",
   "execution_count": 52,
   "id": "5fb5a213",
   "metadata": {},
   "outputs": [
    {
     "data": {
      "text/plain": [
       "128"
      ]
     },
     "execution_count": 52,
     "metadata": {},
     "output_type": "execute_result"
    }
   ],
   "source": [
    "preds = np.transpose(np.array([list(map(np.argmax, model.predict(x_test_flat[FA_flat]))) for model in models]))\n",
    "\n",
    "preds_ensemble = np.array([p[model_num] for p, model_num in zip(preds, model_nums)])\n",
    "\n",
    "y_true_fa = list(map(np.argmax, Y_test[FA_flat]))\n",
    "\n",
    "len(preds_ensemble) - sum(preds_ensemble == y_true_fa)"
   ]
  },
  {
   "cell_type": "code",
   "execution_count": null,
   "id": "0a310378",
   "metadata": {},
   "outputs": [],
   "source": []
  }
 ],
 "metadata": {
  "kernelspec": {
   "display_name": "Python 3 (ipykernel)",
   "language": "python",
   "name": "python3"
  },
  "language_info": {
   "codemirror_mode": {
    "name": "ipython",
    "version": 3
   },
   "file_extension": ".py",
   "mimetype": "text/x-python",
   "name": "python",
   "nbconvert_exporter": "python",
   "pygments_lexer": "ipython3",
   "version": "3.7.0"
  }
 },
 "nbformat": 4,
 "nbformat_minor": 5
}
